{
 "cells": [
  {
   "cell_type": "markdown",
   "id": "7c9b1076-cf04-463c-8cea-4ee2ddb28db6",
   "metadata": {},
   "source": [
    "# Predicting Customer Loyalty Score Using ML"
   ]
  },
  {
   "cell_type": "markdown",
   "id": "d7849a6c-0534-494b-ac18-89ff03e3436d",
   "metadata": {},
   "source": [
    "#### Context\n",
    "\n",
    "Our client, a grocery retailer, hired a market research consultancy to append market level customer loyalty information to the database. However, only around 50% of the client’s customer base could be tagged, thus the other half did not have this information present.\n",
    "\n",
    "The overall aim of this work is to accurately predict the loyalty score for those customers who could not be tagged, enabling our client a clear understanding of true customer loyalty, regardless of total spend volume - and allowing for more accurate and relevant customer tracking, targeting, and comms.\n",
    "\n",
    "To achieve this, we looked to build out a predictive model that will find relationships between customer metrics and loyalty score for those customers who were tagged, and use this to predict the loyalty score metric for those who were not.\n",
    "\n",
    "\n",
    "#### Actions\n",
    "\n",
    "We firstly needed to compile the necessary data from tables in the database, gathering key customer metrics that may help predict loyalty score, appending on the dependent variable, and separating out those who did and did not have this dependent variable present.\n",
    "\n",
    "As we are predicting a numeric output, we test with `Linear Regression` modelling approach."
   ]
  },
  {
   "cell_type": "markdown",
   "id": "267ad658-eec7-46e0-a73a-21378750ebe3",
   "metadata": {},
   "source": [
    "### Linear Regression with Scikit-Learn\n",
    "\n",
    "We utilize the `scikit-learn` library within Python to model our data using Linear Regression. The process is divided into four key sections:\n",
    "\n",
    "- **Data Import**\n",
    "- **Data Preprocessing**\n",
    "- **Model Training**\n",
    "- **Performance Assessment**"
   ]
  },
  {
   "cell_type": "markdown",
   "id": "9c0c34dd-ad8a-4de9-ac25-ddd96b671866",
   "metadata": {},
   "source": [
    "### Import required packages"
   ]
  },
  {
   "cell_type": "code",
   "execution_count": 5,
   "id": "2407b0b5-1cd2-4a6f-b36d-13a76062a923",
   "metadata": {},
   "outputs": [],
   "source": [
    "import pandas as pd\n",
    "import pickle"
   ]
  },
  {
   "cell_type": "markdown",
   "id": "57e4cccd-5135-4784-8f36-65514dc2aec5",
   "metadata": {},
   "source": [
    "### Importing and overview of the data"
   ]
  },
  {
   "cell_type": "code",
   "execution_count": 7,
   "id": "820ba6e4-0064-4153-8b10-7b46867ce432",
   "metadata": {},
   "outputs": [],
   "source": [
    "#Importing the data\n",
    "loyalty_scores = pd.read_excel(\"retail_store_database.xlsx\", sheet_name= \"loyalty_scores\")\n",
    "customer_details = pd.read_excel(\"retail_store_database.xlsx\", sheet_name= \"customer_details\")\n",
    "transactions = pd.read_excel(\"retail_store_database.xlsx\", sheet_name= \"transactions\")"
   ]
  },
  {
   "cell_type": "markdown",
   "id": "1ca7fd4e-2966-42ab-8c61-83bce920f240",
   "metadata": {},
   "source": [
    "#### Overview of the data"
   ]
  },
  {
   "cell_type": "code",
   "execution_count": 9,
   "id": "051903de-3a95-40eb-9934-91d95002fe34",
   "metadata": {},
   "outputs": [
    {
     "data": {
      "text/html": [
       "<div>\n",
       "<style scoped>\n",
       "    .dataframe tbody tr th:only-of-type {\n",
       "        vertical-align: middle;\n",
       "    }\n",
       "\n",
       "    .dataframe tbody tr th {\n",
       "        vertical-align: top;\n",
       "    }\n",
       "\n",
       "    .dataframe thead th {\n",
       "        text-align: right;\n",
       "    }\n",
       "</style>\n",
       "<table border=\"1\" class=\"dataframe\">\n",
       "  <thead>\n",
       "    <tr style=\"text-align: right;\">\n",
       "      <th></th>\n",
       "      <th>customer_id</th>\n",
       "      <th>customer_loyalty_score</th>\n",
       "    </tr>\n",
       "  </thead>\n",
       "  <tbody>\n",
       "    <tr>\n",
       "      <th>0</th>\n",
       "      <td>104</td>\n",
       "      <td>0.587</td>\n",
       "    </tr>\n",
       "    <tr>\n",
       "      <th>1</th>\n",
       "      <td>69</td>\n",
       "      <td>0.156</td>\n",
       "    </tr>\n",
       "    <tr>\n",
       "      <th>2</th>\n",
       "      <td>525</td>\n",
       "      <td>0.959</td>\n",
       "    </tr>\n",
       "    <tr>\n",
       "      <th>3</th>\n",
       "      <td>181</td>\n",
       "      <td>0.418</td>\n",
       "    </tr>\n",
       "    <tr>\n",
       "      <th>4</th>\n",
       "      <td>796</td>\n",
       "      <td>0.570</td>\n",
       "    </tr>\n",
       "  </tbody>\n",
       "</table>\n",
       "</div>"
      ],
      "text/plain": [
       "   customer_id  customer_loyalty_score\n",
       "0          104                   0.587\n",
       "1           69                   0.156\n",
       "2          525                   0.959\n",
       "3          181                   0.418\n",
       "4          796                   0.570"
      ]
     },
     "execution_count": 9,
     "metadata": {},
     "output_type": "execute_result"
    }
   ],
   "source": [
    "loyalty_scores.head()"
   ]
  },
  {
   "cell_type": "code",
   "execution_count": 10,
   "id": "a2656669-eb17-47b8-b2c5-4925575ad2ae",
   "metadata": {},
   "outputs": [
    {
     "data": {
      "text/html": [
       "<div>\n",
       "<style scoped>\n",
       "    .dataframe tbody tr th:only-of-type {\n",
       "        vertical-align: middle;\n",
       "    }\n",
       "\n",
       "    .dataframe tbody tr th {\n",
       "        vertical-align: top;\n",
       "    }\n",
       "\n",
       "    .dataframe thead th {\n",
       "        text-align: right;\n",
       "    }\n",
       "</style>\n",
       "<table border=\"1\" class=\"dataframe\">\n",
       "  <thead>\n",
       "    <tr style=\"text-align: right;\">\n",
       "      <th></th>\n",
       "      <th>customer_id</th>\n",
       "      <th>distance_from_store</th>\n",
       "      <th>gender</th>\n",
       "      <th>credit_score</th>\n",
       "    </tr>\n",
       "  </thead>\n",
       "  <tbody>\n",
       "    <tr>\n",
       "      <th>0</th>\n",
       "      <td>74</td>\n",
       "      <td>3.38</td>\n",
       "      <td>F</td>\n",
       "      <td>0.59</td>\n",
       "    </tr>\n",
       "    <tr>\n",
       "      <th>1</th>\n",
       "      <td>524</td>\n",
       "      <td>4.76</td>\n",
       "      <td>F</td>\n",
       "      <td>0.52</td>\n",
       "    </tr>\n",
       "    <tr>\n",
       "      <th>2</th>\n",
       "      <td>607</td>\n",
       "      <td>4.45</td>\n",
       "      <td>F</td>\n",
       "      <td>0.49</td>\n",
       "    </tr>\n",
       "    <tr>\n",
       "      <th>3</th>\n",
       "      <td>343</td>\n",
       "      <td>0.91</td>\n",
       "      <td>M</td>\n",
       "      <td>0.54</td>\n",
       "    </tr>\n",
       "    <tr>\n",
       "      <th>4</th>\n",
       "      <td>322</td>\n",
       "      <td>3.02</td>\n",
       "      <td>F</td>\n",
       "      <td>0.63</td>\n",
       "    </tr>\n",
       "  </tbody>\n",
       "</table>\n",
       "</div>"
      ],
      "text/plain": [
       "   customer_id  distance_from_store gender  credit_score\n",
       "0           74                 3.38      F          0.59\n",
       "1          524                 4.76      F          0.52\n",
       "2          607                 4.45      F          0.49\n",
       "3          343                 0.91      M          0.54\n",
       "4          322                 3.02      F          0.63"
      ]
     },
     "execution_count": 10,
     "metadata": {},
     "output_type": "execute_result"
    }
   ],
   "source": [
    "customer_details.head()"
   ]
  },
  {
   "cell_type": "code",
   "execution_count": 11,
   "id": "6a66e509-64ac-4541-abf3-be3f6cadbba7",
   "metadata": {},
   "outputs": [
    {
     "data": {
      "text/html": [
       "<div>\n",
       "<style scoped>\n",
       "    .dataframe tbody tr th:only-of-type {\n",
       "        vertical-align: middle;\n",
       "    }\n",
       "\n",
       "    .dataframe tbody tr th {\n",
       "        vertical-align: top;\n",
       "    }\n",
       "\n",
       "    .dataframe thead th {\n",
       "        text-align: right;\n",
       "    }\n",
       "</style>\n",
       "<table border=\"1\" class=\"dataframe\">\n",
       "  <thead>\n",
       "    <tr style=\"text-align: right;\">\n",
       "      <th></th>\n",
       "      <th>customer_id</th>\n",
       "      <th>transaction_date</th>\n",
       "      <th>transaction_id</th>\n",
       "      <th>product_area_id</th>\n",
       "      <th>num_items</th>\n",
       "      <th>sales_cost</th>\n",
       "    </tr>\n",
       "  </thead>\n",
       "  <tbody>\n",
       "    <tr>\n",
       "      <th>0</th>\n",
       "      <td>1</td>\n",
       "      <td>2020-04-10</td>\n",
       "      <td>435657533999</td>\n",
       "      <td>3</td>\n",
       "      <td>7</td>\n",
       "      <td>19.16</td>\n",
       "    </tr>\n",
       "    <tr>\n",
       "      <th>1</th>\n",
       "      <td>1</td>\n",
       "      <td>2020-04-10</td>\n",
       "      <td>435657533999</td>\n",
       "      <td>2</td>\n",
       "      <td>5</td>\n",
       "      <td>7.71</td>\n",
       "    </tr>\n",
       "    <tr>\n",
       "      <th>2</th>\n",
       "      <td>1</td>\n",
       "      <td>2020-06-02</td>\n",
       "      <td>436189770685</td>\n",
       "      <td>4</td>\n",
       "      <td>4</td>\n",
       "      <td>26.97</td>\n",
       "    </tr>\n",
       "    <tr>\n",
       "      <th>3</th>\n",
       "      <td>1</td>\n",
       "      <td>2020-06-02</td>\n",
       "      <td>436189770685</td>\n",
       "      <td>1</td>\n",
       "      <td>2</td>\n",
       "      <td>38.52</td>\n",
       "    </tr>\n",
       "    <tr>\n",
       "      <th>4</th>\n",
       "      <td>1</td>\n",
       "      <td>2020-06-10</td>\n",
       "      <td>436265380298</td>\n",
       "      <td>4</td>\n",
       "      <td>4</td>\n",
       "      <td>22.13</td>\n",
       "    </tr>\n",
       "  </tbody>\n",
       "</table>\n",
       "</div>"
      ],
      "text/plain": [
       "   customer_id transaction_date  transaction_id  product_area_id  num_items  \\\n",
       "0            1       2020-04-10    435657533999                3          7   \n",
       "1            1       2020-04-10    435657533999                2          5   \n",
       "2            1       2020-06-02    436189770685                4          4   \n",
       "3            1       2020-06-02    436189770685                1          2   \n",
       "4            1       2020-06-10    436265380298                4          4   \n",
       "\n",
       "   sales_cost  \n",
       "0       19.16  \n",
       "1        7.71  \n",
       "2       26.97  \n",
       "3       38.52  \n",
       "4       22.13  "
      ]
     },
     "execution_count": 11,
     "metadata": {},
     "output_type": "execute_result"
    }
   ],
   "source": [
    "transactions.head()"
   ]
  },
  {
   "cell_type": "markdown",
   "id": "80792c2b-d3cc-47e9-b275-6cd61f849041",
   "metadata": {},
   "source": [
    "### Creating the customer level dataset\n",
    "\n",
    "The data in the `loyalty scores` and `customer details` are in the customer level, while in the `transactions` data set, the data is at the transaction-id level. Hence, the `transactions` data shall be aggregated to customer-id level so that it can be merged with `loyalty scores` and `customer details` to create a single dataframe."
   ]
  },
  {
   "cell_type": "code",
   "execution_count": 13,
   "id": "7b0f8e88-daed-44a9-80f6-e465f0677dd1",
   "metadata": {},
   "outputs": [],
   "source": [
    "#Merging customer_details and loyalty_scores\n",
    "data_for_regression = pd.merge(customer_details, loyalty_scores, how= \"left\", on= \"customer_id\")\n",
    "\n",
    "#Aggregating the transactions data\n",
    "sales_summary = transactions.groupby(\"customer_id\").agg({\"sales_cost\": \"sum\",\n",
    "                                                         \"num_items\": \"sum\", \n",
    "                                                         \"transaction_id\": \"count\",\n",
    "                                                         \"product_area_id\": \"nunique\"}).reset_index()\n",
    "sales_summary.columns = [\"customer_id\", \"total_sales\", \"total_items\", \"transactions_count\", \"product_area_count\"]\n",
    "sales_summary[\"average_basket_value\"] = sales_summary[\"total_sales\"]/sales_summary[\"transactions_count\"]\n",
    "\n",
    "#Merging data_for_regression and sales_summary\n",
    "data_for_regression = pd.merge(data_for_regression, sales_summary, how= \"inner\", on= \"customer_id\")"
   ]
  },
  {
   "cell_type": "code",
   "execution_count": 14,
   "id": "961bf686-d4ad-4a07-8f64-1c7c0e2e153e",
   "metadata": {},
   "outputs": [
    {
     "data": {
      "text/plain": [
       "(870, 10)"
      ]
     },
     "execution_count": 14,
     "metadata": {},
     "output_type": "execute_result"
    }
   ],
   "source": [
    "data_for_regression.shape"
   ]
  },
  {
   "cell_type": "markdown",
   "id": "bd2336aa-724d-48a8-b7e4-b72d8d60a4e9",
   "metadata": {},
   "source": [
    "### Segregating the modelling data and scoring data\n",
    "\n",
    "For regression modelling, the data without null values is selected from `data_for_regression`, while for regression scoring data with null values is selected."
   ]
  },
  {
   "cell_type": "code",
   "execution_count": 16,
   "id": "e64140e1-f92f-4a57-9037-c1a3878b758d",
   "metadata": {},
   "outputs": [],
   "source": [
    "regression_modelling = data_for_regression.loc[data_for_regression[\"customer_loyalty_score\"].notna()]\n",
    "regression_scoring = data_for_regression.loc[data_for_regression[\"customer_loyalty_score\"].isna()]"
   ]
  },
  {
   "cell_type": "code",
   "execution_count": 17,
   "id": "3a156ea2-cac7-4d0d-aa1f-8b72c2b645a8",
   "metadata": {},
   "outputs": [
    {
     "name": "stdout",
     "output_type": "stream",
     "text": [
      "Number_of_unique_customers = 870\n",
      "Customers_having_loyalty_scores = 400\n",
      "Customers_loyalty_scores_to_predict = 470\n"
     ]
    }
   ],
   "source": [
    "Number_of_unique_customers = data_for_regression.shape[0]\n",
    "Customers_having_loyalty_scores = regression_modelling.shape[0]\n",
    "Customers_loyalty_scores_to_predict = regression_scoring.shape[0]\n",
    "print(f\"Number_of_unique_customers = {Number_of_unique_customers}\\nCustomers_having_loyalty_scores = {Customers_having_loyalty_scores}\\nCustomers_loyalty_scores_to_predict = {Customers_loyalty_scores_to_predict}\")"
   ]
  },
  {
   "cell_type": "markdown",
   "id": "77f22b23-22f3-4020-9124-2e814d931761",
   "metadata": {},
   "source": [
    "### Saving Regression modelling and Regression scoring files"
   ]
  },
  {
   "cell_type": "code",
   "execution_count": 19,
   "id": "711beaec-ab4b-428a-aa4d-442925bd5de2",
   "metadata": {},
   "outputs": [],
   "source": [
    "pickle.dump(regression_modelling, open(\"retail_store_regression_modelling.p\", \"wb\"))\n",
    "pickle.dump(regression_scoring, open(\"retail_store_regression_scoring.p\", \"wb\"))"
   ]
  },
  {
   "cell_type": "markdown",
   "id": "1edf7068-4afc-49a3-87b8-190f414769f5",
   "metadata": {},
   "source": [
    "### Import required packages for Regression"
   ]
  },
  {
   "cell_type": "code",
   "execution_count": 21,
   "id": "f56cd363-96b0-4643-9852-bba47e12ed5b",
   "metadata": {},
   "outputs": [],
   "source": [
    "import matplotlib.pyplot as plt\n",
    "from sklearn.linear_model import LinearRegression\n",
    "from sklearn.utils import shuffle\n",
    "from sklearn.model_selection import train_test_split, cross_val_score, KFold\n",
    "from sklearn.metrics import r2_score\n",
    "from sklearn.preprocessing import OneHotEncoder\n",
    "from sklearn.feature_selection import RFECV"
   ]
  },
  {
   "cell_type": "markdown",
   "id": "15a6b9b9-3e46-4322-89d8-07dda0e00bdf",
   "metadata": {},
   "source": [
    "### Importing and filtering data\n",
    "\n",
    "Here `data_for_model` is retrived using `pickle`. Alternatively, we can directly use `regression_modelling` directly instead of loading the data via `pickle`. "
   ]
  },
  {
   "cell_type": "code",
   "execution_count": 23,
   "id": "b43df72e-b8b2-4cc9-ba43-340648e32967",
   "metadata": {},
   "outputs": [],
   "source": [
    "data_for_model = pickle.load(open(\"retail_store_regression_modelling.p\", \"rb\"))\n",
    "\n",
    "#Drop unncessary columns\n",
    "data_for_model.drop(\"customer_id\", axis=1, inplace= True)\n",
    "\n",
    "#Shuffle data\n",
    "data_for_model = shuffle(data_for_model, random_state= 42)"
   ]
  },
  {
   "cell_type": "markdown",
   "id": "eacf7526-53c7-42ca-b239-9e53d30eff3a",
   "metadata": {},
   "source": [
    "### Dealing with missing values\n",
    "\n",
    "To deal with the missing attributes we have three options:\n",
    "1. get rid of the missing data points\n",
    "2. get rid of the whole attribute\n",
    "3. set the value to some value (0, mean, median, most frequent)"
   ]
  },
  {
   "cell_type": "code",
   "execution_count": 25,
   "id": "64579993-486a-419a-afad-42a62f48a782",
   "metadata": {},
   "outputs": [],
   "source": [
    "#Calculating the missing values\n",
    "credit_score_median = data_for_model[\"credit_score\"].median()\n",
    "distance_from_store_median = data_for_model[\"distance_from_store\"].median()\n",
    "gender_mode = data_for_model[\"gender\"].mode()[0]\n",
    "\n",
    "#Filling the missing values\n",
    "data_for_model.fillna(value={\"credit_score\": credit_score_median,\n",
    "                             \"distance_from_store\": distance_from_store_median,\n",
    "                             \"gender\": gender_mode}, inplace=True)"
   ]
  },
  {
   "cell_type": "markdown",
   "id": "89a1e965-d670-440d-ac4e-06d67ea29b66",
   "metadata": {},
   "source": [
    "### Dealing with ouliers"
   ]
  },
  {
   "cell_type": "code",
   "execution_count": 27,
   "id": "322000bb-e010-4ac3-8508-978ef4497212",
   "metadata": {},
   "outputs": [],
   "source": [
    "outlier_investigation = data_for_model.describe()"
   ]
  },
  {
   "cell_type": "code",
   "execution_count": 28,
   "id": "59dd9089-0c4f-4966-9878-0420711a3ac7",
   "metadata": {},
   "outputs": [],
   "source": [
    "outlier_columns = [\"distance_from_store\", \"total_sales\", \"total_items\"]"
   ]
  },
  {
   "cell_type": "markdown",
   "id": "fa0a1f24-e02d-431c-a82f-ec328cd0fa58",
   "metadata": {},
   "source": [
    "#### Box plot approach"
   ]
  },
  {
   "cell_type": "code",
   "execution_count": 30,
   "id": "e6b9dd4e-0319-4d41-9776-c2505dd17a28",
   "metadata": {},
   "outputs": [
    {
     "name": "stdout",
     "output_type": "stream",
     "text": [
      "2 outliers detected in column distance_from_store\n",
      "23 outliers detected in column total_sales\n",
      "0 outliers detected in column total_items\n"
     ]
    }
   ],
   "source": [
    "for column in outlier_columns:\n",
    "    lower_quantile = data_for_model[column].quantile(0.25)\n",
    "    upper_quantile = data_for_model[column].quantile(0.75)\n",
    "    interquantile = upper_quantile - lower_quantile\n",
    "    interquantile_extended = interquantile * 2\n",
    "    min_border = lower_quantile - interquantile_extended\n",
    "    max_border = upper_quantile + interquantile_extended\n",
    "    \n",
    "    outliers = data_for_model[(data_for_model[column] < min_border) | (data_for_model[column] > max_border)].index\n",
    "    print(f\"{len(outliers)} outliers detected in column {column}\")\n",
    "    \n",
    "    data_for_model.drop(outliers, inplace= True)"
   ]
  },
  {
   "cell_type": "markdown",
   "id": "f7f9df94-3a9c-4ff3-9a3c-66bd9f6e9b06",
   "metadata": {},
   "source": [
    "### Split input & output variables"
   ]
  },
  {
   "cell_type": "code",
   "execution_count": 32,
   "id": "9fc5cdc1-3bfc-44f1-9d5a-e1043c5631a4",
   "metadata": {},
   "outputs": [],
   "source": [
    "X = data_for_model.drop([\"customer_loyalty_score\"], axis= 1)\n",
    "y = data_for_model[\"customer_loyalty_score\"]"
   ]
  },
  {
   "cell_type": "markdown",
   "id": "99da1449-e84b-4e65-a25d-8a782c2e16f2",
   "metadata": {},
   "source": [
    "### Split data into Train & Test "
   ]
  },
  {
   "cell_type": "code",
   "execution_count": 34,
   "id": "557ccf63-21f1-4956-ab7e-447c2de92c35",
   "metadata": {},
   "outputs": [],
   "source": [
    "X_train, X_test, y_train, y_test = train_test_split(X,y, test_size= 0.2, random_state= 42)"
   ]
  },
  {
   "cell_type": "markdown",
   "id": "cdf194e9-d0a1-4874-89db-c804015d5748",
   "metadata": {},
   "source": [
    "### Dealing with categorical variables"
   ]
  },
  {
   "cell_type": "markdown",
   "id": "3abd2b23-9e10-40dd-b6c4-fa97e682f979",
   "metadata": {},
   "source": [
    "#### List of columns with categorical variables"
   ]
  },
  {
   "cell_type": "code",
   "execution_count": 37,
   "id": "8c3d1ddd-b56e-45ed-9ac7-2feb1012fcec",
   "metadata": {},
   "outputs": [],
   "source": [
    "categorical_vars = [\"gender\"] "
   ]
  },
  {
   "cell_type": "markdown",
   "id": "9f862d74-852a-409c-85b2-6ee0e0b2e05c",
   "metadata": {},
   "source": [
    "#### Categorical variable transformer - OneHoTEncoder"
   ]
  },
  {
   "cell_type": "code",
   "execution_count": 39,
   "id": "1a3e31d2-23e8-4798-a330-c15bfaf07ad7",
   "metadata": {},
   "outputs": [],
   "source": [
    "one_hot_encoder = OneHotEncoder(sparse_output= False, drop= \"first\") "
   ]
  },
  {
   "cell_type": "markdown",
   "id": "65230244-5eb0-487b-8dc7-2055267a65ab",
   "metadata": {},
   "source": [
    "`sparse_output= False` will return an array, rather than an object, which is called a sparse matrix.\n",
    "d`drop` ensures that one column from each of the categorical variable value column is dropped which avoids multicollinearity among the variables"
   ]
  },
  {
   "cell_type": "markdown",
   "id": "f47f172c-0474-482d-9312-3b000c3da344",
   "metadata": {},
   "source": [
    "#### Training and transforming the categorical variables"
   ]
  },
  {
   "cell_type": "code",
   "execution_count": 42,
   "id": "41b53129-11ca-41a5-ba29-4d372e556930",
   "metadata": {},
   "outputs": [],
   "source": [
    "X_train_encoded = one_hot_encoder.fit_transform(X_train[categorical_vars])\n",
    "X_test_encoded = one_hot_encoder.transform(X_test[categorical_vars])"
   ]
  },
  {
   "cell_type": "markdown",
   "id": "e4ad7164-52d2-4d8a-8797-73f7cc8a6bd9",
   "metadata": {},
   "source": [
    "#### Getting the feature names"
   ]
  },
  {
   "cell_type": "code",
   "execution_count": 44,
   "id": "16de0fe9-1b3b-460f-badf-eafaf25bf97a",
   "metadata": {},
   "outputs": [],
   "source": [
    "encoder_feature_names = one_hot_encoder.get_feature_names_out(categorical_vars)"
   ]
  },
  {
   "cell_type": "markdown",
   "id": "e53f0e06-c59d-4916-82d0-b88efb2276ca",
   "metadata": {},
   "source": [
    "#### (1) Creating a dataframe of categorical values as boolean "
   ]
  },
  {
   "cell_type": "code",
   "execution_count": 46,
   "id": "55b0efbd-fa06-407b-8a67-9341141ed217",
   "metadata": {},
   "outputs": [],
   "source": [
    "X_train_encoded = pd.DataFrame(X_train_encoded, columns= encoder_feature_names)"
   ]
  },
  {
   "cell_type": "markdown",
   "id": "bbf07800-1e97-4aae-89ea-e13edf7f0bf2",
   "metadata": {},
   "source": [
    "#### (2) Concatinating the encoded dataframe to the `X_train`"
   ]
  },
  {
   "cell_type": "code",
   "execution_count": 48,
   "id": "b25c7eaf-0ed4-400c-8c34-fa6395d44627",
   "metadata": {},
   "outputs": [],
   "source": [
    "X_train = pd.concat([X_train.reset_index(drop= True), X_train_encoded.reset_index(drop= True)], axis= 1) "
   ]
  },
  {
   "cell_type": "markdown",
   "id": "22abb0ca-3eb4-4ed0-bc0b-edfec056742d",
   "metadata": {},
   "source": [
    "`reset_index` is set to `true` so that when concatenating, this will ensure that no rows are not aligned as if they are, else we might end up with missing values.\n",
    "`axis= 1` means we are concatinating on columns and not on rows"
   ]
  },
  {
   "cell_type": "markdown",
   "id": "a3553c31-ce9d-44c2-8053-8b0ebe10fe90",
   "metadata": {},
   "source": [
    "#### (3) Dropping the categorical variable columns"
   ]
  },
  {
   "cell_type": "code",
   "execution_count": 51,
   "id": "f9ece648-8a5c-43c6-ab46-6a8955e5efbe",
   "metadata": {},
   "outputs": [],
   "source": [
    "X_train.drop(categorical_vars, axis= 1, inplace= True)"
   ]
  },
  {
   "cell_type": "markdown",
   "id": "7ee9500a-3867-40ed-a8ef-6af1d3018e16",
   "metadata": {},
   "source": [
    "#### Applying the above steps (1 to 3) on the `X_test` dataframe "
   ]
  },
  {
   "cell_type": "code",
   "execution_count": 53,
   "id": "b1550f3d-6d45-40ea-8a23-4efd4e247d99",
   "metadata": {},
   "outputs": [],
   "source": [
    "X_test_encoded = pd.DataFrame(X_test_encoded, columns= encoder_feature_names) #creating a dataframe of categorical values as boolean with their respective column names\n",
    "X_test = pd.concat([X_test.reset_index(drop= True), X_test_encoded.reset_index(drop= True)], axis= 1) \n",
    "X_test.drop(categorical_vars, axis= 1, inplace= True)"
   ]
  },
  {
   "cell_type": "code",
   "execution_count": 54,
   "id": "4982fdb7-8c46-4642-a63a-a1409cd777aa",
   "metadata": {},
   "outputs": [
    {
     "data": {
      "text/html": [
       "<div>\n",
       "<style scoped>\n",
       "    .dataframe tbody tr th:only-of-type {\n",
       "        vertical-align: middle;\n",
       "    }\n",
       "\n",
       "    .dataframe tbody tr th {\n",
       "        vertical-align: top;\n",
       "    }\n",
       "\n",
       "    .dataframe thead th {\n",
       "        text-align: right;\n",
       "    }\n",
       "</style>\n",
       "<table border=\"1\" class=\"dataframe\">\n",
       "  <thead>\n",
       "    <tr style=\"text-align: right;\">\n",
       "      <th></th>\n",
       "      <th>distance_from_store</th>\n",
       "      <th>credit_score</th>\n",
       "      <th>total_sales</th>\n",
       "      <th>total_items</th>\n",
       "      <th>transactions_count</th>\n",
       "      <th>product_area_count</th>\n",
       "      <th>average_basket_value</th>\n",
       "      <th>gender_M</th>\n",
       "    </tr>\n",
       "  </thead>\n",
       "  <tbody>\n",
       "    <tr>\n",
       "      <th>0</th>\n",
       "      <td>4.62</td>\n",
       "      <td>0.47</td>\n",
       "      <td>3296.51</td>\n",
       "      <td>320</td>\n",
       "      <td>51</td>\n",
       "      <td>5</td>\n",
       "      <td>64.637451</td>\n",
       "      <td>0.0</td>\n",
       "    </tr>\n",
       "    <tr>\n",
       "      <th>1</th>\n",
       "      <td>1.92</td>\n",
       "      <td>0.64</td>\n",
       "      <td>1992.51</td>\n",
       "      <td>305</td>\n",
       "      <td>53</td>\n",
       "      <td>5</td>\n",
       "      <td>37.594528</td>\n",
       "      <td>0.0</td>\n",
       "    </tr>\n",
       "    <tr>\n",
       "      <th>2</th>\n",
       "      <td>4.38</td>\n",
       "      <td>0.47</td>\n",
       "      <td>343.41</td>\n",
       "      <td>70</td>\n",
       "      <td>12</td>\n",
       "      <td>4</td>\n",
       "      <td>28.617500</td>\n",
       "      <td>0.0</td>\n",
       "    </tr>\n",
       "    <tr>\n",
       "      <th>3</th>\n",
       "      <td>1.96</td>\n",
       "      <td>0.60</td>\n",
       "      <td>1678.45</td>\n",
       "      <td>355</td>\n",
       "      <td>46</td>\n",
       "      <td>4</td>\n",
       "      <td>36.488043</td>\n",
       "      <td>0.0</td>\n",
       "    </tr>\n",
       "    <tr>\n",
       "      <th>4</th>\n",
       "      <td>2.52</td>\n",
       "      <td>0.50</td>\n",
       "      <td>1967.39</td>\n",
       "      <td>316</td>\n",
       "      <td>55</td>\n",
       "      <td>5</td>\n",
       "      <td>35.770727</td>\n",
       "      <td>0.0</td>\n",
       "    </tr>\n",
       "  </tbody>\n",
       "</table>\n",
       "</div>"
      ],
      "text/plain": [
       "   distance_from_store  credit_score  total_sales  total_items  \\\n",
       "0                 4.62          0.47      3296.51          320   \n",
       "1                 1.92          0.64      1992.51          305   \n",
       "2                 4.38          0.47       343.41           70   \n",
       "3                 1.96          0.60      1678.45          355   \n",
       "4                 2.52          0.50      1967.39          316   \n",
       "\n",
       "   transactions_count  product_area_count  average_basket_value  gender_M  \n",
       "0                  51                   5             64.637451       0.0  \n",
       "1                  53                   5             37.594528       0.0  \n",
       "2                  12                   4             28.617500       0.0  \n",
       "3                  46                   4             36.488043       0.0  \n",
       "4                  55                   5             35.770727       0.0  "
      ]
     },
     "execution_count": 54,
     "metadata": {},
     "output_type": "execute_result"
    }
   ],
   "source": [
    "X_test.head()"
   ]
  },
  {
   "cell_type": "markdown",
   "id": "48f814ee-bdc2-4360-a0c9-d571379ff591",
   "metadata": {},
   "source": [
    "#### Saving the One Hot Encoder"
   ]
  },
  {
   "cell_type": "code",
   "execution_count": 56,
   "id": "30500015-3a3b-45fc-8c68-eb090eaeb0e5",
   "metadata": {},
   "outputs": [],
   "source": [
    "pickle.dump(one_hot_encoder, open(\"regression_ohe.p\", \"wb\"))"
   ]
  },
  {
   "cell_type": "markdown",
   "id": "8c91673f-99c6-4d2e-a1ca-ad0459742e9c",
   "metadata": {},
   "source": [
    "### Feature Selection - Recursive Feature Elimination Cross Validation (RFECV)"
   ]
  },
  {
   "cell_type": "code",
   "execution_count": 58,
   "id": "3b11dc10-df19-43eb-a3ba-c623806d1704",
   "metadata": {},
   "outputs": [
    {
     "name": "stdout",
     "output_type": "stream",
     "text": [
      "Optimal number of features: 6\n"
     ]
    }
   ],
   "source": [
    "features_list = pd.DataFrame(X_train.columns)\n",
    "\n",
    "regressor = LinearRegression()\n",
    "feature_selector = RFECV(regressor)\n",
    "\n",
    "fit = feature_selector.fit(X_train, y_train)\n",
    "\n",
    "optimal_feature_count = feature_selector.n_features_\n",
    "print(f\"Optimal number of features: {optimal_feature_count}\")\n",
    "\n",
    "X_train = X_train.loc[:, feature_selector.get_support()]\n",
    "X_test = X_test.loc[:, feature_selector.get_support()]"
   ]
  },
  {
   "cell_type": "code",
   "execution_count": 59,
   "id": "a02fa801-3ab9-429b-8e52-12d481fd1735",
   "metadata": {},
   "outputs": [
    {
     "data": {
      "text/html": [
       "<div>\n",
       "<style scoped>\n",
       "    .dataframe tbody tr th:only-of-type {\n",
       "        vertical-align: middle;\n",
       "    }\n",
       "\n",
       "    .dataframe tbody tr th {\n",
       "        vertical-align: top;\n",
       "    }\n",
       "\n",
       "    .dataframe thead th {\n",
       "        text-align: right;\n",
       "    }\n",
       "</style>\n",
       "<table border=\"1\" class=\"dataframe\">\n",
       "  <thead>\n",
       "    <tr style=\"text-align: right;\">\n",
       "      <th></th>\n",
       "      <th>feature_name</th>\n",
       "      <th>boolean</th>\n",
       "    </tr>\n",
       "  </thead>\n",
       "  <tbody>\n",
       "    <tr>\n",
       "      <th>0</th>\n",
       "      <td>distance_from_store</td>\n",
       "      <td>True</td>\n",
       "    </tr>\n",
       "    <tr>\n",
       "      <th>1</th>\n",
       "      <td>credit_score</td>\n",
       "      <td>True</td>\n",
       "    </tr>\n",
       "    <tr>\n",
       "      <th>2</th>\n",
       "      <td>total_sales</td>\n",
       "      <td>False</td>\n",
       "    </tr>\n",
       "    <tr>\n",
       "      <th>3</th>\n",
       "      <td>total_items</td>\n",
       "      <td>True</td>\n",
       "    </tr>\n",
       "    <tr>\n",
       "      <th>4</th>\n",
       "      <td>transactions_count</td>\n",
       "      <td>False</td>\n",
       "    </tr>\n",
       "    <tr>\n",
       "      <th>5</th>\n",
       "      <td>product_area_count</td>\n",
       "      <td>True</td>\n",
       "    </tr>\n",
       "    <tr>\n",
       "      <th>6</th>\n",
       "      <td>average_basket_value</td>\n",
       "      <td>True</td>\n",
       "    </tr>\n",
       "    <tr>\n",
       "      <th>7</th>\n",
       "      <td>gender_M</td>\n",
       "      <td>True</td>\n",
       "    </tr>\n",
       "  </tbody>\n",
       "</table>\n",
       "</div>"
      ],
      "text/plain": [
       "           feature_name  boolean\n",
       "0   distance_from_store     True\n",
       "1          credit_score     True\n",
       "2           total_sales    False\n",
       "3           total_items     True\n",
       "4    transactions_count    False\n",
       "5    product_area_count     True\n",
       "6  average_basket_value     True\n",
       "7              gender_M     True"
      ]
     },
     "execution_count": 59,
     "metadata": {},
     "output_type": "execute_result"
    }
   ],
   "source": [
    "feature_boolean = pd.DataFrame(feature_selector.get_support())\n",
    "feature_summary = pd.concat([features_list, feature_boolean], axis= 1)\n",
    "feature_summary.columns = [\"feature_name\", \"boolean\"]\n",
    "feature_summary"
   ]
  },
  {
   "cell_type": "markdown",
   "id": "343b38ec-148e-4e3a-baf8-f02bfefc8d5e",
   "metadata": {},
   "source": [
    "### Saving Feature Selection"
   ]
  },
  {
   "cell_type": "code",
   "execution_count": 61,
   "id": "ff65e2ba-ff60-4f50-8e7c-4ce6466acc57",
   "metadata": {},
   "outputs": [],
   "source": [
    "feature_selector_RFECV = pickle.dump(feature_selector, open(\"regression_feature_selector_RFECV.p\", \"wb\"))"
   ]
  },
  {
   "cell_type": "markdown",
   "id": "d7ab40ce-2d1f-4dc8-9f37-53dfa3139ef9",
   "metadata": {},
   "source": [
    "#### Visualizing the Feature Importance"
   ]
  },
  {
   "cell_type": "code",
   "execution_count": 63,
   "id": "c5fb5c73-6d45-4a0d-892d-bb8438ae874d",
   "metadata": {},
   "outputs": [
    {
     "data": {
      "image/png": "[encoded data removed]",
      "text/plain": [
       "<Figure size 640x480 with 1 Axes>"
      ]
     },
     "metadata": {},
     "output_type": "display_data"
    }
   ],
   "source": [
    "plt.plot(range(1, len(fit.cv_results_['mean_test_score']) + 1), fit.cv_results_['mean_test_score'], marker= \"o\")\n",
    "plt.ylabel(\"Model Score\")\n",
    "plt.xlabel(\"Number of Features\")\n",
    "plt.title(f\"Feature selection using RFE \\n Optimal number of features is {optimal_feature_count} (at score of {round(max(fit.cv_results_['mean_test_score']), 4)})\")\n",
    "plt.tight_layout()\n",
    "plt.show()"
   ]
  },
  {
   "cell_type": "markdown",
   "id": "27ae0671-22d4-4246-af3a-60c852ec9b20",
   "metadata": {},
   "source": [
    "### Model Training"
   ]
  },
  {
   "cell_type": "code",
   "execution_count": 65,
   "id": "e570d211-6f0c-4003-93d7-23e672fff397",
   "metadata": {},
   "outputs": [
    {
     "data": {
      "text/html": [
       "<style>#sk-container-id-1 {\n",
       "  /* Definition of color scheme common for light and dark mode */\n",
       "  --sklearn-color-text: black;\n",
       "  --sklearn-color-line: gray;\n",
       "  /* Definition of color scheme for unfitted estimators */\n",
       "  --sklearn-color-unfitted-level-0: #fff5e6;\n",
       "  --sklearn-color-unfitted-level-1: #f6e4d2;\n",
       "  --sklearn-color-unfitted-level-2: #ffe0b3;\n",
       "  --sklearn-color-unfitted-level-3: chocolate;\n",
       "  /* Definition of color scheme for fitted estimators */\n",
       "  --sklearn-color-fitted-level-0: #f0f8ff;\n",
       "  --sklearn-color-fitted-level-1: #d4ebff;\n",
       "  --sklearn-color-fitted-level-2: #b3dbfd;\n",
       "  --sklearn-color-fitted-level-3: cornflowerblue;\n",
       "\n",
       "  /* Specific color for light theme */\n",
       "  --sklearn-color-text-on-default-background: var(--sg-text-color, var(--theme-code-foreground, var(--jp-content-font-color1, black)));\n",
       "  --sklearn-color-background: var(--sg-background-color, var(--theme-background, var(--jp-layout-color0, white)));\n",
       "  --sklearn-color-border-box: var(--sg-text-color, var(--theme-code-foreground, var(--jp-content-font-color1, black)));\n",
       "  --sklearn-color-icon: #696969;\n",
       "\n",
       "  @media (prefers-color-scheme: dark) {\n",
       "    /* Redefinition of color scheme for dark theme */\n",
       "    --sklearn-color-text-on-default-background: var(--sg-text-color, var(--theme-code-foreground, var(--jp-content-font-color1, white)));\n",
       "    --sklearn-color-background: var(--sg-background-color, var(--theme-background, var(--jp-layout-color0, #111)));\n",
       "    --sklearn-color-border-box: var(--sg-text-color, var(--theme-code-foreground, var(--jp-content-font-color1, white)));\n",
       "    --sklearn-color-icon: #878787;\n",
       "  }\n",
       "}\n",
       "\n",
       "#sk-container-id-1 {\n",
       "  color: var(--sklearn-color-text);\n",
       "}\n",
       "\n",
       "#sk-container-id-1 pre {\n",
       "  padding: 0;\n",
       "}\n",
       "\n",
       "#sk-container-id-1 input.sk-hidden--visually {\n",
       "  border: 0;\n",
       "  clip: rect(1px 1px 1px 1px);\n",
       "  clip: rect(1px, 1px, 1px, 1px);\n",
       "  height: 1px;\n",
       "  margin: -1px;\n",
       "  overflow: hidden;\n",
       "  padding: 0;\n",
       "  position: absolute;\n",
       "  width: 1px;\n",
       "}\n",
       "\n",
       "#sk-container-id-1 div.sk-dashed-wrapped {\n",
       "  border: 1px dashed var(--sklearn-color-line);\n",
       "  margin: 0 0.4em 0.5em 0.4em;\n",
       "  box-sizing: border-box;\n",
       "  padding-bottom: 0.4em;\n",
       "  background-color: var(--sklearn-color-background);\n",
       "}\n",
       "\n",
       "#sk-container-id-1 div.sk-container {\n",
       "  /* jupyter's `normalize.less` sets `[hidden] { display: none; }`\n",
       "     but bootstrap.min.css set `[hidden] { display: none !important; }`\n",
       "     so we also need the `!important` here to be able to override the\n",
       "     default hidden behavior on the sphinx rendered scikit-learn.org.\n",
       "     See: https://github.com/scikit-learn/scikit-learn/issues/21755 */\n",
       "  display: inline-block !important;\n",
       "  position: relative;\n",
       "}\n",
       "\n",
       "#sk-container-id-1 div.sk-text-repr-fallback {\n",
       "  display: none;\n",
       "}\n",
       "\n",
       "div.sk-parallel-item,\n",
       "div.sk-serial,\n",
       "div.sk-item {\n",
       "  /* draw centered vertical line to link estimators */\n",
       "  background-image: linear-gradient(var(--sklearn-color-text-on-default-background), var(--sklearn-color-text-on-default-background));\n",
       "  background-size: 2px 100%;\n",
       "  background-repeat: no-repeat;\n",
       "  background-position: center center;\n",
       "}\n",
       "\n",
       "/* Parallel-specific style estimator block */\n",
       "\n",
       "#sk-container-id-1 div.sk-parallel-item::after {\n",
       "  content: \"\";\n",
       "  width: 100%;\n",
       "  border-bottom: 2px solid var(--sklearn-color-text-on-default-background);\n",
       "  flex-grow: 1;\n",
       "}\n",
       "\n",
       "#sk-container-id-1 div.sk-parallel {\n",
       "  display: flex;\n",
       "  align-items: stretch;\n",
       "  justify-content: center;\n",
       "  background-color: var(--sklearn-color-background);\n",
       "  position: relative;\n",
       "}\n",
       "\n",
       "#sk-container-id-1 div.sk-parallel-item {\n",
       "  display: flex;\n",
       "  flex-direction: column;\n",
       "}\n",
       "\n",
       "#sk-container-id-1 div.sk-parallel-item:first-child::after {\n",
       "  align-self: flex-end;\n",
       "  width: 50%;\n",
       "}\n",
       "\n",
       "#sk-container-id-1 div.sk-parallel-item:last-child::after {\n",
       "  align-self: flex-start;\n",
       "  width: 50%;\n",
       "}\n",
       "\n",
       "#sk-container-id-1 div.sk-parallel-item:only-child::after {\n",
       "  width: 0;\n",
       "}\n",
       "\n",
       "/* Serial-specific style estimator block */\n",
       "\n",
       "#sk-container-id-1 div.sk-serial {\n",
       "  display: flex;\n",
       "  flex-direction: column;\n",
       "  align-items: center;\n",
       "  background-color: var(--sklearn-color-background);\n",
       "  padding-right: 1em;\n",
       "  padding-left: 1em;\n",
       "}\n",
       "\n",
       "\n",
       "/* Toggleable style: style used for estimator/Pipeline/ColumnTransformer box that is\n",
       "clickable and can be expanded/collapsed.\n",
       "- Pipeline and ColumnTransformer use this feature and define the default style\n",
       "- Estimators will overwrite some part of the style using the `sk-estimator` class\n",
       "*/\n",
       "\n",
       "/* Pipeline and ColumnTransformer style (default) */\n",
       "\n",
       "#sk-container-id-1 div.sk-toggleable {\n",
       "  /* Default theme specific background. It is overwritten whether we have a\n",
       "  specific estimator or a Pipeline/ColumnTransformer */\n",
       "  background-color: var(--sklearn-color-background);\n",
       "}\n",
       "\n",
       "/* Toggleable label */\n",
       "#sk-container-id-1 label.sk-toggleable__label {\n",
       "  cursor: pointer;\n",
       "  display: block;\n",
       "  width: 100%;\n",
       "  margin-bottom: 0;\n",
       "  padding: 0.5em;\n",
       "  box-sizing: border-box;\n",
       "  text-align: center;\n",
       "}\n",
       "\n",
       "#sk-container-id-1 label.sk-toggleable__label-arrow:before {\n",
       "  /* Arrow on the left of the label */\n",
       "  content: \"▸\";\n",
       "  float: left;\n",
       "  margin-right: 0.25em;\n",
       "  color: var(--sklearn-color-icon);\n",
       "}\n",
       "\n",
       "#sk-container-id-1 label.sk-toggleable__label-arrow:hover:before {\n",
       "  color: var(--sklearn-color-text);\n",
       "}\n",
       "\n",
       "/* Toggleable content - dropdown */\n",
       "\n",
       "#sk-container-id-1 div.sk-toggleable__content {\n",
       "  max-height: 0;\n",
       "  max-width: 0;\n",
       "  overflow: hidden;\n",
       "  text-align: left;\n",
       "  /* unfitted */\n",
       "  background-color: var(--sklearn-color-unfitted-level-0);\n",
       "}\n",
       "\n",
       "#sk-container-id-1 div.sk-toggleable__content.fitted {\n",
       "  /* fitted */\n",
       "  background-color: var(--sklearn-color-fitted-level-0);\n",
       "}\n",
       "\n",
       "#sk-container-id-1 div.sk-toggleable__content pre {\n",
       "  margin: 0.2em;\n",
       "  border-radius: 0.25em;\n",
       "  color: var(--sklearn-color-text);\n",
       "  /* unfitted */\n",
       "  background-color: var(--sklearn-color-unfitted-level-0);\n",
       "}\n",
       "\n",
       "#sk-container-id-1 div.sk-toggleable__content.fitted pre {\n",
       "  /* unfitted */\n",
       "  background-color: var(--sklearn-color-fitted-level-0);\n",
       "}\n",
       "\n",
       "#sk-container-id-1 input.sk-toggleable__control:checked~div.sk-toggleable__content {\n",
       "  /* Expand drop-down */\n",
       "  max-height: 200px;\n",
       "  max-width: 100%;\n",
       "  overflow: auto;\n",
       "}\n",
       "\n",
       "#sk-container-id-1 input.sk-toggleable__control:checked~label.sk-toggleable__label-arrow:before {\n",
       "  content: \"▾\";\n",
       "}\n",
       "\n",
       "/* Pipeline/ColumnTransformer-specific style */\n",
       "\n",
       "#sk-container-id-1 div.sk-label input.sk-toggleable__control:checked~label.sk-toggleable__label {\n",
       "  color: var(--sklearn-color-text);\n",
       "  background-color: var(--sklearn-color-unfitted-level-2);\n",
       "}\n",
       "\n",
       "#sk-container-id-1 div.sk-label.fitted input.sk-toggleable__control:checked~label.sk-toggleable__label {\n",
       "  background-color: var(--sklearn-color-fitted-level-2);\n",
       "}\n",
       "\n",
       "/* Estimator-specific style */\n",
       "\n",
       "/* Colorize estimator box */\n",
       "#sk-container-id-1 div.sk-estimator input.sk-toggleable__control:checked~label.sk-toggleable__label {\n",
       "  /* unfitted */\n",
       "  background-color: var(--sklearn-color-unfitted-level-2);\n",
       "}\n",
       "\n",
       "#sk-container-id-1 div.sk-estimator.fitted input.sk-toggleable__control:checked~label.sk-toggleable__label {\n",
       "  /* fitted */\n",
       "  background-color: var(--sklearn-color-fitted-level-2);\n",
       "}\n",
       "\n",
       "#sk-container-id-1 div.sk-label label.sk-toggleable__label,\n",
       "#sk-container-id-1 div.sk-label label {\n",
       "  /* The background is the default theme color */\n",
       "  color: var(--sklearn-color-text-on-default-background);\n",
       "}\n",
       "\n",
       "/* On hover, darken the color of the background */\n",
       "#sk-container-id-1 div.sk-label:hover label.sk-toggleable__label {\n",
       "  color: var(--sklearn-color-text);\n",
       "  background-color: var(--sklearn-color-unfitted-level-2);\n",
       "}\n",
       "\n",
       "/* Label box, darken color on hover, fitted */\n",
       "#sk-container-id-1 div.sk-label.fitted:hover label.sk-toggleable__label.fitted {\n",
       "  color: var(--sklearn-color-text);\n",
       "  background-color: var(--sklearn-color-fitted-level-2);\n",
       "}\n",
       "\n",
       "/* Estimator label */\n",
       "\n",
       "#sk-container-id-1 div.sk-label label {\n",
       "  font-family: monospace;\n",
       "  font-weight: bold;\n",
       "  display: inline-block;\n",
       "  line-height: 1.2em;\n",
       "}\n",
       "\n",
       "#sk-container-id-1 div.sk-label-container {\n",
       "  text-align: center;\n",
       "}\n",
       "\n",
       "/* Estimator-specific */\n",
       "#sk-container-id-1 div.sk-estimator {\n",
       "  font-family: monospace;\n",
       "  border: 1px dotted var(--sklearn-color-border-box);\n",
       "  border-radius: 0.25em;\n",
       "  box-sizing: border-box;\n",
       "  margin-bottom: 0.5em;\n",
       "  /* unfitted */\n",
       "  background-color: var(--sklearn-color-unfitted-level-0);\n",
       "}\n",
       "\n",
       "#sk-container-id-1 div.sk-estimator.fitted {\n",
       "  /* fitted */\n",
       "  background-color: var(--sklearn-color-fitted-level-0);\n",
       "}\n",
       "\n",
       "/* on hover */\n",
       "#sk-container-id-1 div.sk-estimator:hover {\n",
       "  /* unfitted */\n",
       "  background-color: var(--sklearn-color-unfitted-level-2);\n",
       "}\n",
       "\n",
       "#sk-container-id-1 div.sk-estimator.fitted:hover {\n",
       "  /* fitted */\n",
       "  background-color: var(--sklearn-color-fitted-level-2);\n",
       "}\n",
       "\n",
       "/* Specification for estimator info (e.g. \"i\" and \"?\") */\n",
       "\n",
       "/* Common style for \"i\" and \"?\" */\n",
       "\n",
       ".sk-estimator-doc-link,\n",
       "a:link.sk-estimator-doc-link,\n",
       "a:visited.sk-estimator-doc-link {\n",
       "  float: right;\n",
       "  font-size: smaller;\n",
       "  line-height: 1em;\n",
       "  font-family: monospace;\n",
       "  background-color: var(--sklearn-color-background);\n",
       "  border-radius: 1em;\n",
       "  height: 1em;\n",
       "  width: 1em;\n",
       "  text-decoration: none !important;\n",
       "  margin-left: 1ex;\n",
       "  /* unfitted */\n",
       "  border: var(--sklearn-color-unfitted-level-1) 1pt solid;\n",
       "  color: var(--sklearn-color-unfitted-level-1);\n",
       "}\n",
       "\n",
       ".sk-estimator-doc-link.fitted,\n",
       "a:link.sk-estimator-doc-link.fitted,\n",
       "a:visited.sk-estimator-doc-link.fitted {\n",
       "  /* fitted */\n",
       "  border: var(--sklearn-color-fitted-level-1) 1pt solid;\n",
       "  color: var(--sklearn-color-fitted-level-1);\n",
       "}\n",
       "\n",
       "/* On hover */\n",
       "div.sk-estimator:hover .sk-estimator-doc-link:hover,\n",
       ".sk-estimator-doc-link:hover,\n",
       "div.sk-label-container:hover .sk-estimator-doc-link:hover,\n",
       ".sk-estimator-doc-link:hover {\n",
       "  /* unfitted */\n",
       "  background-color: var(--sklearn-color-unfitted-level-3);\n",
       "  color: var(--sklearn-color-background);\n",
       "  text-decoration: none;\n",
       "}\n",
       "\n",
       "div.sk-estimator.fitted:hover .sk-estimator-doc-link.fitted:hover,\n",
       ".sk-estimator-doc-link.fitted:hover,\n",
       "div.sk-label-container:hover .sk-estimator-doc-link.fitted:hover,\n",
       ".sk-estimator-doc-link.fitted:hover {\n",
       "  /* fitted */\n",
       "  background-color: var(--sklearn-color-fitted-level-3);\n",
       "  color: var(--sklearn-color-background);\n",
       "  text-decoration: none;\n",
       "}\n",
       "\n",
       "/* Span, style for the box shown on hovering the info icon */\n",
       ".sk-estimator-doc-link span {\n",
       "  display: none;\n",
       "  z-index: 9999;\n",
       "  position: relative;\n",
       "  font-weight: normal;\n",
       "  right: .2ex;\n",
       "  padding: .5ex;\n",
       "  margin: .5ex;\n",
       "  width: min-content;\n",
       "  min-width: 20ex;\n",
       "  max-width: 50ex;\n",
       "  color: var(--sklearn-color-text);\n",
       "  box-shadow: 2pt 2pt 4pt #999;\n",
       "  /* unfitted */\n",
       "  background: var(--sklearn-color-unfitted-level-0);\n",
       "  border: .5pt solid var(--sklearn-color-unfitted-level-3);\n",
       "}\n",
       "\n",
       ".sk-estimator-doc-link.fitted span {\n",
       "  /* fitted */\n",
       "  background: var(--sklearn-color-fitted-level-0);\n",
       "  border: var(--sklearn-color-fitted-level-3);\n",
       "}\n",
       "\n",
       ".sk-estimator-doc-link:hover span {\n",
       "  display: block;\n",
       "}\n",
       "\n",
       "/* \"?\"-specific style due to the `<a>` HTML tag */\n",
       "\n",
       "#sk-container-id-1 a.estimator_doc_link {\n",
       "  float: right;\n",
       "  font-size: 1rem;\n",
       "  line-height: 1em;\n",
       "  font-family: monospace;\n",
       "  background-color: var(--sklearn-color-background);\n",
       "  border-radius: 1rem;\n",
       "  height: 1rem;\n",
       "  width: 1rem;\n",
       "  text-decoration: none;\n",
       "  /* unfitted */\n",
       "  color: var(--sklearn-color-unfitted-level-1);\n",
       "  border: var(--sklearn-color-unfitted-level-1) 1pt solid;\n",
       "}\n",
       "\n",
       "#sk-container-id-1 a.estimator_doc_link.fitted {\n",
       "  /* fitted */\n",
       "  border: var(--sklearn-color-fitted-level-1) 1pt solid;\n",
       "  color: var(--sklearn-color-fitted-level-1);\n",
       "}\n",
       "\n",
       "/* On hover */\n",
       "#sk-container-id-1 a.estimator_doc_link:hover {\n",
       "  /* unfitted */\n",
       "  background-color: var(--sklearn-color-unfitted-level-3);\n",
       "  color: var(--sklearn-color-background);\n",
       "  text-decoration: none;\n",
       "}\n",
       "\n",
       "#sk-container-id-1 a.estimator_doc_link.fitted:hover {\n",
       "  /* fitted */\n",
       "  background-color: var(--sklearn-color-fitted-level-3);\n",
       "}\n",
       "</style><div id=\"sk-container-id-1\" class=\"sk-top-container\"><div class=\"sk-text-repr-fallback\"><pre>LinearRegression()</pre><b>In a Jupyter environment, please rerun this cell to show the HTML representation or trust the notebook. <br />On GitHub, the HTML representation is unable to render, please try loading this page with nbviewer.org.</b></div><div class=\"sk-container\" hidden><div class=\"sk-item\"><div class=\"sk-estimator fitted sk-toggleable\"><input class=\"sk-toggleable__control sk-hidden--visually\" id=\"sk-estimator-id-1\" type=\"checkbox\" checked><label for=\"sk-estimator-id-1\" class=\"sk-toggleable__label fitted sk-toggleable__label-arrow fitted\">&nbsp;&nbsp;LinearRegression<a class=\"sk-estimator-doc-link fitted\" rel=\"noreferrer\" target=\"_blank\" href=\"https://scikit-learn.org/1.4/modules/generated/sklearn.linear_model.LinearRegression.html\">?<span>Documentation for LinearRegression</span></a><span class=\"sk-estimator-doc-link fitted\">i<span>Fitted</span></span></label><div class=\"sk-toggleable__content fitted\"><pre>LinearRegression()</pre></div> </div></div></div></div>"
      ],
      "text/plain": [
       "LinearRegression()"
      ]
     },
     "execution_count": 65,
     "metadata": {},
     "output_type": "execute_result"
    }
   ],
   "source": [
    "regressor = LinearRegression()\r\n",
    "regressor.fit(X_train, y_train)"
   ]
  },
  {
   "cell_type": "markdown",
   "id": "ca37d232-a98e-4494-aa6a-75d25e2fca53",
   "metadata": {},
   "source": [
    "### Model Assessment"
   ]
  },
  {
   "cell_type": "markdown",
   "id": "b5f8d38e-d758-408f-a0b8-14516e4aecdf",
   "metadata": {},
   "source": [
    "#### Predict on the test setres.mean()"
   ]
  },
  {
   "cell_type": "code",
   "execution_count": 68,
   "id": "b823e52a-9ef4-423a-9d88-d42130c3dfc5",
   "metadata": {},
   "outputs": [],
   "source": [
    "y_pred = regressor.predict(X_test)"
   ]
  },
  {
   "cell_type": "markdown",
   "id": "da404f46-e414-4832-a09c-4219c18b8493",
   "metadata": {},
   "source": [
    "#### Calculate R-squared\n",
    "\n",
    "R-Squared is a metric that shows the percentage of variance in our output variable y that is being explained by our input variable(s) x. It is a value that ranges between 0 and 1, with a higher value showing a higher level of explained variance. Another way of explaining this would be to say that, if we had an r-squared score of 0.8 it would suggest that 80% of the variation of our output variable is being explained by our input variables - and something else, or some other variables must account for the other 20%.\r\n",
    "\r\n",
    "To calculate r-squared, we use the following code where we pass in our predicted outputs for the test set (y_pred), as well as the actual outputs for the test set (y_test)"
   ]
  },
  {
   "cell_type": "code",
   "execution_count": 70,
   "id": "5cc1f120-4dd4-49a5-abd7-77496765d3d7",
   "metadata": {},
   "outputs": [
    {
     "name": "stdout",
     "output_type": "stream",
     "text": [
      "r_squared = 0.8016177309444464\n"
     ]
    }
   ],
   "source": [
    "r_squared = r2_score(y_test, y_pred)\n",
    "print(f\"r_squared = {r_squared}\")"
   ]
  },
  {
   "cell_type": "markdown",
   "id": "a24de87b-c6a9-4ce6-89a0-b9608d4dbe95",
   "metadata": {},
   "source": [
    "#### Cross Validation\n",
    "\n",
    "An even more powerful and reliable way to assess model performance is to utilise Cross Validation.\r\n",
    "\r\n",
    "Instead of simply dividing our data into a single training set, and a single test set, with Cross Validation we break our data into a number of “chunks” and then iteratively train the model on all but one of the “chunks”, test the model on the remaining “chunk” until each has had a chance to be the test set.\r\n",
    "\r\n",
    "The result of this is that we are provided a number of test set validation results - and we can take the average of these to give a much more robust & reliable view of how our model will perform on new, un-seen data!\r\n",
    "\r\n",
    "In the code below, we put this into place. We first specify that we want 4 “chunks” and then we pass in our regressor object, training set, and test set. We also specify the metric we want to assess with, in this case, we stick with r-squared.\r\n",
    "\r\n",
    "Finally, we take a mean of all four test set results."
   ]
  },
  {
   "cell_type": "code",
   "execution_count": 72,
   "id": "249ebe23-f8be-4b76-b1be-1032a39a584c",
   "metadata": {},
   "outputs": [
    {
     "name": "stdout",
     "output_type": "stream",
     "text": [
      "cv_scores_mean = 0.8477632268736278\n"
     ]
    }
   ],
   "source": [
    "cv = KFold(n_splits= 4, shuffle= True, random_state= 42)\n",
    "cv_scores = cross_val_score(regressor, X_train, y_train, cv= cv, scoring= \"r2\")\n",
    "cv_scores_mean = cv_scores.mean()\n",
    "print(f\"cv_scores_mean = {cv_scores_mean}\")"
   ]
  },
  {
   "cell_type": "markdown",
   "id": "045ce84e-46ae-47b3-bc4f-a0a5f016a50d",
   "metadata": {},
   "source": [
    "#### Calculate Adjusted R-Squared\n",
    "\n",
    "When applying Linear Regression with multiple input variables, the r-squared metric on it’s own can end up being an overinflated view of goodness of fit. This is because each input variable will have an additive effect on the overall r-squared score. In other words, every input variable added to the model increases the r-squared value, and never decreases it, even if the relationship is by chance.\r\n",
    "\r\n",
    "Adjusted R-Squared is a metric that compensates for the addition of input variables, and only increases if the variable improves the model above what would be obtained by probability. It is best practice to use Adjusted R-Squared when assessing the results of a Linear Regression with multiple input variables, as it gives a fairer perception the fit of the data."
   ]
  },
  {
   "cell_type": "code",
   "execution_count": 74,
   "id": "026fa89a-0c2a-4afa-8c3f-201f402bbf9e",
   "metadata": {},
   "outputs": [
    {
     "name": "stdout",
     "output_type": "stream",
     "text": [
      "adjusted_r_squared = 0.7841134130866034\n"
     ]
    }
   ],
   "source": [
    "num_data_points, num_input_vars = X_test.shape\n",
    "adjusted_r_squared = 1- (1-r_squared) * (num_data_points - 1) / (num_data_points - num_input_vars - 1)\n",
    "print(f\"adjusted_r_squared = {adjusted_r_squared}\")"
   ]
  },
  {
   "cell_type": "markdown",
   "id": "c2e6c79c-474d-4bdf-9074-11b2d74e06f1",
   "metadata": {},
   "source": [
    "#### Extract Model Coefficients"
   ]
  },
  {
   "cell_type": "code",
   "execution_count": 76,
   "id": "a93414a3-8483-40ac-bdef-185e1e70533b",
   "metadata": {},
   "outputs": [
    {
     "data": {
      "text/html": [
       "<div>\n",
       "<style scoped>\n",
       "    .dataframe tbody tr th:only-of-type {\n",
       "        vertical-align: middle;\n",
       "    }\n",
       "\n",
       "    .dataframe tbody tr th {\n",
       "        vertical-align: top;\n",
       "    }\n",
       "\n",
       "    .dataframe thead th {\n",
       "        text-align: right;\n",
       "    }\n",
       "</style>\n",
       "<table border=\"1\" class=\"dataframe\">\n",
       "  <thead>\n",
       "    <tr style=\"text-align: right;\">\n",
       "      <th></th>\n",
       "      <th>input_variables</th>\n",
       "      <th>coefficients</th>\n",
       "    </tr>\n",
       "  </thead>\n",
       "  <tbody>\n",
       "    <tr>\n",
       "      <th>0</th>\n",
       "      <td>distance_from_store</td>\n",
       "      <td>-0.182909</td>\n",
       "    </tr>\n",
       "    <tr>\n",
       "      <th>1</th>\n",
       "      <td>credit_score</td>\n",
       "      <td>-0.014609</td>\n",
       "    </tr>\n",
       "    <tr>\n",
       "      <th>2</th>\n",
       "      <td>total_items</td>\n",
       "      <td>0.000772</td>\n",
       "    </tr>\n",
       "    <tr>\n",
       "      <th>3</th>\n",
       "      <td>product_area_count</td>\n",
       "      <td>0.053651</td>\n",
       "    </tr>\n",
       "    <tr>\n",
       "      <th>4</th>\n",
       "      <td>average_basket_value</td>\n",
       "      <td>0.002729</td>\n",
       "    </tr>\n",
       "    <tr>\n",
       "      <th>5</th>\n",
       "      <td>gender_M</td>\n",
       "      <td>0.023718</td>\n",
       "    </tr>\n",
       "  </tbody>\n",
       "</table>\n",
       "</div>"
      ],
      "text/plain": [
       "        input_variables  coefficients\n",
       "0   distance_from_store     -0.182909\n",
       "1          credit_score     -0.014609\n",
       "2           total_items      0.000772\n",
       "3    product_area_count      0.053651\n",
       "4  average_basket_value      0.002729\n",
       "5              gender_M      0.023718"
      ]
     },
     "execution_count": 76,
     "metadata": {},
     "output_type": "execute_result"
    }
   ],
   "source": [
    "coefficients = pd.DataFrame(regressor.coef_)\n",
    "input_variable_names = pd.DataFrame(X_train.columns)\n",
    "summary_stats = pd.concat([input_variable_names, coefficients], axis= 1)\n",
    "summary_stats.columns = [\"input_variables\", \"coefficients\"]\n",
    "summary_stats"
   ]
  },
  {
   "cell_type": "markdown",
   "id": "29a04bda-2782-46d3-a14e-33ead6b48454",
   "metadata": {},
   "source": [
    "The coefficient value for each of the input variables, along with that of the intercept would make up the equation for the line of best fit for this particular model (or more accurately, in this case it would be the plane of best fit, as we have multiple input variables).\n",
    "\n",
    "For each input variable, the coefficient value we see above tells us, with everything else staying constant how many units the output variable (loyalty score) would change with a one unit change in this particular input variable.\n",
    "\n",
    "To provide an example of this - in the table above, we can see that the distance_from_store input variable has a coefficient value of -0.1829. This is saying that loyalty_score decreases by 0.1829 (or 18.29% as loyalty score is a percentage, or at least a decimal value between 0 and 1) for every additional mile that a customer lives from the store. This makes intuitive sense, as customers who live a long way from this store, most likely live near another store where they might do some of their shopping as well, whereas customers who live near this store, probably do a greater proportion of their shopping at this store…and hence have a higher loyalty score!"
   ]
  },
  {
   "cell_type": "markdown",
   "id": "3299ea98-beb7-4f3d-a20e-5cf7b5fd0330",
   "metadata": {},
   "source": [
    "#### Extract Model Intercept"
   ]
  },
  {
   "cell_type": "code",
   "execution_count": 79,
   "id": "83dfbf44-803a-40d6-b3ad-1ece91c7ca18",
   "metadata": {},
   "outputs": [
    {
     "name": "stdout",
     "output_type": "stream",
     "text": [
      "regressor_y_intercept = 0.32753471467956435\n"
     ]
    }
   ],
   "source": [
    "regressor_y_intercept = regressor.intercept_\n",
    "print(f\"regressor_y_intercept = {regressor_y_intercept}\")"
   ]
  },
  {
   "cell_type": "markdown",
   "id": "9cae8de4-a7d4-4a06-829d-eeb4b873cf0c",
   "metadata": {},
   "source": [
    "### Saving the regressor"
   ]
  },
  {
   "cell_type": "code",
   "execution_count": 81,
   "id": "4ac0e4e2-85d4-4cf9-8fcd-a7ac5b1b5540",
   "metadata": {},
   "outputs": [],
   "source": [
    "pickle.dump(regressor, open(\"linear_regression_model.p\", \"wb\"))"
   ]
  },
  {
   "cell_type": "markdown",
   "id": "280f136d-549d-4674-ae21-4553f645dc0a",
   "metadata": {},
   "source": [
    "## Predicting the missing loyalty scores"
   ]
  },
  {
   "cell_type": "markdown",
   "id": "937098b0-1449-44ad-a56c-d366e0ac8372",
   "metadata": {},
   "source": [
    "### Import customers data for scoring "
   ]
  },
  {
   "cell_type": "code",
   "execution_count": 84,
   "id": "b6301dfc-6a02-4990-bda1-abac4c767193",
   "metadata": {},
   "outputs": [
    {
     "data": {
      "text/html": [
       "<div>\n",
       "<style scoped>\n",
       "    .dataframe tbody tr th:only-of-type {\n",
       "        vertical-align: middle;\n",
       "    }\n",
       "\n",
       "    .dataframe tbody tr th {\n",
       "        vertical-align: top;\n",
       "    }\n",
       "\n",
       "    .dataframe thead th {\n",
       "        text-align: right;\n",
       "    }\n",
       "</style>\n",
       "<table border=\"1\" class=\"dataframe\">\n",
       "  <thead>\n",
       "    <tr style=\"text-align: right;\">\n",
       "      <th></th>\n",
       "      <th>customer_id</th>\n",
       "      <th>distance_from_store</th>\n",
       "      <th>gender</th>\n",
       "      <th>credit_score</th>\n",
       "      <th>customer_loyalty_score</th>\n",
       "      <th>total_sales</th>\n",
       "      <th>total_items</th>\n",
       "      <th>transactions_count</th>\n",
       "      <th>product_area_count</th>\n",
       "      <th>average_basket_value</th>\n",
       "    </tr>\n",
       "  </thead>\n",
       "  <tbody>\n",
       "    <tr>\n",
       "      <th>6</th>\n",
       "      <td>1</td>\n",
       "      <td>4.78</td>\n",
       "      <td>F</td>\n",
       "      <td>0.66</td>\n",
       "      <td>NaN</td>\n",
       "      <td>3980.49</td>\n",
       "      <td>424</td>\n",
       "      <td>51</td>\n",
       "      <td>5</td>\n",
       "      <td>78.048824</td>\n",
       "    </tr>\n",
       "    <tr>\n",
       "      <th>7</th>\n",
       "      <td>120</td>\n",
       "      <td>3.49</td>\n",
       "      <td>F</td>\n",
       "      <td>0.38</td>\n",
       "      <td>NaN</td>\n",
       "      <td>2887.20</td>\n",
       "      <td>253</td>\n",
       "      <td>45</td>\n",
       "      <td>5</td>\n",
       "      <td>64.160000</td>\n",
       "    </tr>\n",
       "    <tr>\n",
       "      <th>8</th>\n",
       "      <td>52</td>\n",
       "      <td>14.91</td>\n",
       "      <td>F</td>\n",
       "      <td>0.68</td>\n",
       "      <td>NaN</td>\n",
       "      <td>3342.75</td>\n",
       "      <td>335</td>\n",
       "      <td>47</td>\n",
       "      <td>5</td>\n",
       "      <td>71.122340</td>\n",
       "    </tr>\n",
       "    <tr>\n",
       "      <th>10</th>\n",
       "      <td>435</td>\n",
       "      <td>0.25</td>\n",
       "      <td>M</td>\n",
       "      <td>0.62</td>\n",
       "      <td>NaN</td>\n",
       "      <td>2326.71</td>\n",
       "      <td>267</td>\n",
       "      <td>48</td>\n",
       "      <td>5</td>\n",
       "      <td>48.473125</td>\n",
       "    </tr>\n",
       "    <tr>\n",
       "      <th>12</th>\n",
       "      <td>679</td>\n",
       "      <td>4.74</td>\n",
       "      <td>F</td>\n",
       "      <td>0.58</td>\n",
       "      <td>NaN</td>\n",
       "      <td>3448.59</td>\n",
       "      <td>370</td>\n",
       "      <td>49</td>\n",
       "      <td>5</td>\n",
       "      <td>70.379388</td>\n",
       "    </tr>\n",
       "  </tbody>\n",
       "</table>\n",
       "</div>"
      ],
      "text/plain": [
       "    customer_id  distance_from_store gender  credit_score  \\\n",
       "6             1                 4.78      F          0.66   \n",
       "7           120                 3.49      F          0.38   \n",
       "8            52                14.91      F          0.68   \n",
       "10          435                 0.25      M          0.62   \n",
       "12          679                 4.74      F          0.58   \n",
       "\n",
       "    customer_loyalty_score  total_sales  total_items  transactions_count  \\\n",
       "6                      NaN      3980.49          424                  51   \n",
       "7                      NaN      2887.20          253                  45   \n",
       "8                      NaN      3342.75          335                  47   \n",
       "10                     NaN      2326.71          267                  48   \n",
       "12                     NaN      3448.59          370                  49   \n",
       "\n",
       "    product_area_count  average_basket_value  \n",
       "6                    5             78.048824  \n",
       "7                    5             64.160000  \n",
       "8                    5             71.122340  \n",
       "10                   5             48.473125  \n",
       "12                   5             70.379388  "
      ]
     },
     "execution_count": 84,
     "metadata": {},
     "output_type": "execute_result"
    }
   ],
   "source": [
    "to_be_scored = pickle.load(open(\"retail_store_regression_scoring.p\", \"rb\"))\n",
    "customer_id = pd.DataFrame(to_be_scored[\"customer_id\"])\n",
    "to_be_scored.head()"
   ]
  },
  {
   "cell_type": "markdown",
   "id": "fbf3077b-93c2-4176-81d1-eae5584beddb",
   "metadata": {},
   "source": [
    "### Drop unused columns\n",
    "\n",
    "From the model training with Recursive Feature Elimination Cross Validation, out of 8 features 2 features namely `total_sales` and `transactions_count` were of less important and hence we drop these two features. As we are predicting the `customer_loyalty_score` itself we drop this feature along with `customer_id`. "
   ]
  },
  {
   "cell_type": "code",
   "execution_count": 86,
   "id": "9da730de-22c8-48e9-8b38-19fd626b44db",
   "metadata": {},
   "outputs": [],
   "source": [
    "to_be_scored.drop([\"customer_id\", \"customer_loyalty_score\", \"total_sales\", \"transactions_count\"], axis= 1, inplace= True)"
   ]
  },
  {
   "cell_type": "markdown",
   "id": "a3008f3d-df1e-492a-bfa7-9b1df79f1c5e",
   "metadata": {},
   "source": [
    "### Dealing with missing values"
   ]
  },
  {
   "cell_type": "code",
   "execution_count": 88,
   "id": "16c19d86-df96-40fd-8d36-7d3c5d01c337",
   "metadata": {},
   "outputs": [],
   "source": [
    "#Calculating the missing values\n",
    "credit_score_median = data_for_model[\"credit_score\"].median()\n",
    "distance_from_store_median = data_for_model[\"distance_from_store\"].median()\n",
    "gender_mode = data_for_model[\"gender\"].mode()[0]\n",
    "\n",
    "#Filling the missing values\n",
    "to_be_scored.fillna(value={\"credit_score\": credit_score_median,\n",
    "                             \"distance_from_store\": distance_from_store_median,\n",
    "                             \"gender\": gender_mode}, inplace=True)"
   ]
  },
  {
   "cell_type": "markdown",
   "id": "eb1a3b99-d059-4a6e-a454-8a6af75f0070",
   "metadata": {},
   "source": [
    "### Import model and model objects"
   ]
  },
  {
   "cell_type": "code",
   "execution_count": 90,
   "id": "6327d99f-cc7d-408d-90ca-9c1f89ed4406",
   "metadata": {},
   "outputs": [],
   "source": [
    "regressor = pickle.load(open(\"linear_regression_model.p\", \"rb\"))\n",
    "one_hot_encoder = pickle.load(open(\"regression_ohe.p\", \"rb\"))"
   ]
  },
  {
   "cell_type": "markdown",
   "id": "b991bf19-59cd-4566-ba38-5691ea7bd11e",
   "metadata": {},
   "source": [
    "### Applying One Hot Encoding"
   ]
  },
  {
   "cell_type": "code",
   "execution_count": 92,
   "id": "2e033e09-e8cd-40a5-9b6f-db7f5f38ee60",
   "metadata": {},
   "outputs": [],
   "source": [
    "categorical_vars = [\"gender\"]\n",
    "encoder_vars_array = one_hot_encoder.transform(to_be_scored[categorical_vars])\n",
    "encoder_feature_names = one_hot_encoder.get_feature_names_out(categorical_vars)\n",
    "encoder_vars_df = pd.DataFrame(encoder_vars_array, columns= encoder_feature_names)\n",
    "to_be_scored = pd.concat([to_be_scored.reset_index(drop= True), encoder_vars_df.reset_index(drop= True)], axis= 1) \n",
    "to_be_scored.drop(categorical_vars, axis= 1, inplace= True)"
   ]
  },
  {
   "cell_type": "code",
   "execution_count": 93,
   "id": "44941532-da2c-41aa-bb8f-b03ecfb8a3dd",
   "metadata": {},
   "outputs": [
    {
     "data": {
      "text/html": [
       "<div>\n",
       "<style scoped>\n",
       "    .dataframe tbody tr th:only-of-type {\n",
       "        vertical-align: middle;\n",
       "    }\n",
       "\n",
       "    .dataframe tbody tr th {\n",
       "        vertical-align: top;\n",
       "    }\n",
       "\n",
       "    .dataframe thead th {\n",
       "        text-align: right;\n",
       "    }\n",
       "</style>\n",
       "<table border=\"1\" class=\"dataframe\">\n",
       "  <thead>\n",
       "    <tr style=\"text-align: right;\">\n",
       "      <th></th>\n",
       "      <th>distance_from_store</th>\n",
       "      <th>credit_score</th>\n",
       "      <th>total_items</th>\n",
       "      <th>product_area_count</th>\n",
       "      <th>average_basket_value</th>\n",
       "      <th>gender_M</th>\n",
       "    </tr>\n",
       "  </thead>\n",
       "  <tbody>\n",
       "    <tr>\n",
       "      <th>0</th>\n",
       "      <td>4.78</td>\n",
       "      <td>0.66</td>\n",
       "      <td>424</td>\n",
       "      <td>5</td>\n",
       "      <td>78.048824</td>\n",
       "      <td>0.0</td>\n",
       "    </tr>\n",
       "    <tr>\n",
       "      <th>1</th>\n",
       "      <td>3.49</td>\n",
       "      <td>0.38</td>\n",
       "      <td>253</td>\n",
       "      <td>5</td>\n",
       "      <td>64.160000</td>\n",
       "      <td>0.0</td>\n",
       "    </tr>\n",
       "    <tr>\n",
       "      <th>2</th>\n",
       "      <td>14.91</td>\n",
       "      <td>0.68</td>\n",
       "      <td>335</td>\n",
       "      <td>5</td>\n",
       "      <td>71.122340</td>\n",
       "      <td>0.0</td>\n",
       "    </tr>\n",
       "    <tr>\n",
       "      <th>3</th>\n",
       "      <td>0.25</td>\n",
       "      <td>0.62</td>\n",
       "      <td>267</td>\n",
       "      <td>5</td>\n",
       "      <td>48.473125</td>\n",
       "      <td>1.0</td>\n",
       "    </tr>\n",
       "    <tr>\n",
       "      <th>4</th>\n",
       "      <td>4.74</td>\n",
       "      <td>0.58</td>\n",
       "      <td>370</td>\n",
       "      <td>5</td>\n",
       "      <td>70.379388</td>\n",
       "      <td>0.0</td>\n",
       "    </tr>\n",
       "  </tbody>\n",
       "</table>\n",
       "</div>"
      ],
      "text/plain": [
       "   distance_from_store  credit_score  total_items  product_area_count  \\\n",
       "0                 4.78          0.66          424                   5   \n",
       "1                 3.49          0.38          253                   5   \n",
       "2                14.91          0.68          335                   5   \n",
       "3                 0.25          0.62          267                   5   \n",
       "4                 4.74          0.58          370                   5   \n",
       "\n",
       "   average_basket_value  gender_M  \n",
       "0             78.048824       0.0  \n",
       "1             64.160000       0.0  \n",
       "2             71.122340       0.0  \n",
       "3             48.473125       1.0  \n",
       "4             70.379388       0.0  "
      ]
     },
     "execution_count": 93,
     "metadata": {},
     "output_type": "execute_result"
    }
   ],
   "source": [
    "to_be_scored.head()"
   ]
  },
  {
   "cell_type": "markdown",
   "id": "8c5dbd3c-0804-416b-8ce8-3088d3eb8d64",
   "metadata": {},
   "source": [
    "### Making predictions"
   ]
  },
  {
   "cell_type": "code",
   "execution_count": 95,
   "id": "cc00995b-32d9-4dbf-88d0-47c96525e454",
   "metadata": {},
   "outputs": [
    {
     "name": "stdout",
     "output_type": "stream",
     "text": [
      "Number of loyalty score predicted = 470\n"
     ]
    }
   ],
   "source": [
    "loyalty_score_predictions = regressor.predict(to_be_scored)\n",
    "loyalty_score_predictions = pd.DataFrame(loyalty_score_predictions)\n",
    "print(f\"Number of loyalty score predicted = {loyalty_score_predictions.shape[0]}\")"
   ]
  },
  {
   "cell_type": "code",
   "execution_count": 96,
   "id": "494725b1-ed78-481c-8358-f0cd0f710645",
   "metadata": {},
   "outputs": [],
   "source": [
    "loyalty_score_predictions = pd.concat([customer_id.reset_index(drop= True), loyalty_score_predictions.reset_index(drop= True)], axis= 1)\n",
    "loyalty_score_predictions.columns = [\"customer_id\", \"predicted_loyalty_score\"]"
   ]
  }
 ],
 "metadata": {
  "kernelspec": {
   "display_name": "Python 3 (ipykernel)",
   "language": "python",
   "name": "python3"
  },
  "language_info": {
   "codemirror_mode": {
    "name": "ipython",
    "version": 3
   },
   "file_extension": ".py",
   "mimetype": "text/x-python",
   "name": "python",
   "nbconvert_exporter": "python",
   "pygments_lexer": "ipython3",
   "version": "3.12.4"
  }
 },
 "nbformat": 4,
 "nbformat_minor": 5
}
